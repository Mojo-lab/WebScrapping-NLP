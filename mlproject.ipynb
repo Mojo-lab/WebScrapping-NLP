{
 "cells": [
  {
   "cell_type": "code",
   "execution_count": 1,
   "metadata": {},
   "outputs": [],
   "source": [
    "from bs4 import BeautifulSoup as soup\n",
    "from urllib.request import urlopen as ureq"
   ]
  },
  {
   "cell_type": "code",
   "execution_count": 2,
   "metadata": {},
   "outputs": [],
   "source": [
    "url = 'https://www.flipkart.com/realme-5-pro-sparkling-blue-128-gb/p/itmfj9twdugyvg77?pid=MOBFJ9TWAEBGAYFR&srno=s_1_1&otracker=search&otracker1=search&lid=LSTMOBFJ9TWAEBGAYFRYARMRA&fm=organic&iid=52340a08-7bdf-446d-a1b7-ad0b51e21cc6.MOBFJ9TWAEBGAYFR.SEARCH&ssid=j9vgzcencg0000001571067931102&qH=0e144ab94d3ed3b7'\n"
   ]
  },
  {
   "cell_type": "code",
   "execution_count": 3,
   "metadata": {},
   "outputs": [],
   "source": [
    "uclient = ureq(url)\n",
    "page_html = uclient.read()\n",
    "uclient.close()\n",
    "page_soup = soup(page_html,'html.parser')"
   ]
  },
  {
   "cell_type": "code",
   "execution_count": 4,
   "metadata": {},
   "outputs": [],
   "source": [
    "container = page_soup.findAll(\"div\",{\"class\":\"bhgxx2 col-12-12\"})"
   ]
  },
  {
   "cell_type": "code",
   "execution_count": 20,
   "metadata": {},
   "outputs": [
    {
     "name": "stdout",
     "output_type": "stream",
     "text": [
      "16\n",
      "<div class=\"row\">\n",
      " <div class=\"qwjRop\">\n",
      "  <div>\n",
      "   <div class=\"\">\n",
      "    realme 5 pro is awesome mobile for this range. design,look is really nice.. I love this phone value for money...,😍😘\n",
      "   </div>\n",
      "   <span class=\"_2jRR3v\">\n",
      "    <span>\n",
      "     READ MORE\n",
      "    </span>\n",
      "   </span>\n",
      "  </div>\n",
      " </div>\n",
      "</div>\n",
      "\n"
     ]
    }
   ],
   "source": [
    "print(len(container))\n",
    "review = container[13].findAll(\"div\",{\"class\":\"row\"})\n",
    "print(soup.prettify(review[13]))\n"
   ]
  },
  {
   "cell_type": "code",
   "execution_count": 21,
   "metadata": {},
   "outputs": [
    {
     "name": "stdout",
     "output_type": "stream",
     "text": [
      "[5, 5, 5, 5, 5, 5, 5, 5, 5, 5]\n"
     ]
    }
   ],
   "source": [
    "#print(soup.prettify(container[14]))\n",
    "r = []\n",
    "review = container[13].findAll(\"div\",{\"class\":\"row\"})\n",
    "for i in range(7,55,5):\n",
    "    z = review[i].text\n",
    "    z = int(z[0])\n",
    "    r.append(z)\n",
    "print(r)"
   ]
  },
  {
   "cell_type": "code",
   "execution_count": 23,
   "metadata": {
    "scrolled": true
   },
   "outputs": [
    {
     "name": "stdout",
     "output_type": "stream",
     "text": [
      "['No. 1 Quality Smartphone Brand realme. 8GB is awesome flagship with Snapdragon 712, hyperboost and UFS 2.1. VOOC fast charging too. The best phone for gamers. Quad camera have captured some great shots.READ MORE', 'realme 5 pro is awesome mobile for this range. design,look is really nice.. I love this phone value for money...,😍😘READ MORE', 'Last week got hands on realme 5 Pro 8 GB Crytal green variant on the first sale itself, the device offers such great features at a very minimal price. Here are my views on the same. Pros: 1) The much amazing quad camera to capture great memories with great clarity. Macro lens is my personal favourite. 2) Getting a Vooc 3.0 in box charger along with a Type C, a complete hassle-free charging experience3) An AI 712 processor along for a smooth and lag-free performance.4) An expandable memor...READ MORE', 'so super Very fast charging and very nice zooming camera then so NiceREAD MORE', 'perfect on tym.... as dey said  bingo...   moble looks goood . its early to comment on it... but looks gr8READ MORE', 'good performance, excellent cam.loved ultra wide angle lens 😍😎Dare to leapREAD MORE', 'Nice mobileREAD MORE', 'Awesome device, and hats off to Flipkart for such speedy delivery.I ordered it on 4th Sep 12PM and it got delivered by 5th Sep 10AM. I am absolutely loving this device, buttery smooth and blazing fast. This is one of the best mobile phone. I am using it last 8 days and I am very happy with this. Build quality is amazing. Camera is superb, performance is awesome, battery life is also good and also get  fast charger.READ MORE', 'Awesome mobile at this Price. Good camera quality , High resolution display. I bought Crystal green colour  because it’s attractiveREAD MORE', \"I'm using 3 days I'm really impressedREAD MORE\"]\n"
     ]
    }
   ],
   "source": [
    "b = []\n",
    "review = container[13].findAll(\"div\",{\"class\":\"row\"})\n",
    "for i in range(8,56,5):\n",
    "    z = review[i].text\n",
    "    b.append(z)\n",
    "print(b)"
   ]
  },
  {
   "cell_type": "code",
   "execution_count": 24,
   "metadata": {},
   "outputs": [],
   "source": [
    "url1 = \"https://www.flipkart.com/realme-5-pro-sparkling-blue-128-gb/product-reviews/itmfj9twdugyvg77?pid=MOBFJ9TWAEBGAYFR&page=2\""
   ]
  },
  {
   "cell_type": "code",
   "execution_count": 25,
   "metadata": {},
   "outputs": [],
   "source": [
    "uclient = ureq(url1)\n",
    "page_html = uclient.read()\n",
    "uclient.close()\n",
    "page_soup1 = soup(page_html,'html.parser')"
   ]
  },
  {
   "cell_type": "code",
   "execution_count": 26,
   "metadata": {},
   "outputs": [],
   "source": [
    "container1 = page_soup1.findAll(\"div\",{\"class\":\"bhgxx2 col-12-12\"})"
   ]
  },
  {
   "cell_type": "code",
   "execution_count": 27,
   "metadata": {
    "scrolled": true
   },
   "outputs": [
    {
     "data": {
      "text/plain": [
       "15"
      ]
     },
     "execution_count": 27,
     "metadata": {},
     "output_type": "execute_result"
    }
   ],
   "source": [
    "len(container1)"
   ]
  },
  {
   "cell_type": "code",
   "execution_count": 28,
   "metadata": {
    "scrolled": false
   },
   "outputs": [],
   "source": [
    "#print(soup.prettify(container1[11]))\n"
   ]
  },
  {
   "cell_type": "code",
   "execution_count": 29,
   "metadata": {},
   "outputs": [
    {
     "name": "stdout",
     "output_type": "stream",
     "text": [
      "<div class=\"row\">\n",
      " <div class=\"hGSR34 E_uFuv\">\n",
      "  4\n",
      "  <img class=\"_2lQ_WZ\" src=\"data:image/svg+xml;base64,PHN2ZyB4bWxucz0iaHR0cDovL3d3dy53My5vcmcvMjAwMC9zdmciIHdpZHRoPSIxMyIgaGVpZ2h0PSIxMiI+PHBhdGggZmlsbD0iI0ZGRiIgZD0iTTYuNSA5LjQzOWwtMy42NzQgMi4yMy45NC00LjI2LTMuMjEtMi44ODMgNC4yNTQtLjQwNEw2LjUuMTEybDEuNjkgNC4wMSA0LjI1NC40MDQtMy4yMSAyLjg4Mi45NCA0LjI2eiIvPjwvc3ZnPg==\"/>\n",
      " </div>\n",
      " <p class=\"_2xg6Ul\">\n",
      "  Worth the money\n",
      " </p>\n",
      "</div>\n",
      "\n",
      "4Worth the money\n"
     ]
    }
   ],
   "source": [
    "review = container1[5].findAll(\"div\",{\"class\":\"row\"})\n",
    "print(soup.prettify(review[0]))\n",
    "\n",
    "print(review[0].text)\n",
    "#print(soup.pretiffy(review[1]))"
   ]
  },
  {
   "cell_type": "code",
   "execution_count": 30,
   "metadata": {},
   "outputs": [],
   "source": [
    "for i in range(3,14,1):\n",
    "    review1 = container1[i].findAll(\"div\",{\"class\":\"row\"})\n",
    "    z = review1[1].text\n",
    "    c = review1[0].text\n",
    "    c = int(c[0])\n",
    "    r.append(c)\n",
    "    b.append(z)"
   ]
  },
  {
   "cell_type": "code",
   "execution_count": 31,
   "metadata": {
    "scrolled": true
   },
   "outputs": [
    {
     "name": "stdout",
     "output_type": "stream",
     "text": [
      "['No. 1 Quality Smartphone Brand realme. 8GB is awesome flagship with Snapdragon 712, hyperboost and UFS 2.1. VOOC fast charging too. The best phone for gamers. Quad camera have captured some great shots.READ MORE', 'realme 5 pro is awesome mobile for this range. design,look is really nice.. I love this phone value for money...,😍😘READ MORE', 'Last week got hands on realme 5 Pro 8 GB Crytal green variant on the first sale itself, the device offers such great features at a very minimal price. Here are my views on the same. Pros: 1) The much amazing quad camera to capture great memories with great clarity. Macro lens is my personal favourite. 2) Getting a Vooc 3.0 in box charger along with a Type C, a complete hassle-free charging experience3) An AI 712 processor along for a smooth and lag-free performance.4) An expandable memor...READ MORE', 'so super Very fast charging and very nice zooming camera then so NiceREAD MORE', 'perfect on tym.... as dey said  bingo...   moble looks goood . its early to comment on it... but looks gr8READ MORE', 'good performance, excellent cam.loved ultra wide angle lens 😍😎Dare to leapREAD MORE', 'Nice mobileREAD MORE', 'Awesome device, and hats off to Flipkart for such speedy delivery.I ordered it on 4th Sep 12PM and it got delivered by 5th Sep 10AM. I am absolutely loving this device, buttery smooth and blazing fast. This is one of the best mobile phone. I am using it last 8 days and I am very happy with this. Build quality is amazing. Camera is superb, performance is awesome, battery life is also good and also get  fast charger.READ MORE', 'Awesome mobile at this Price. Good camera quality , High resolution display. I bought Crystal green colour  because it’s attractiveREAD MORE', \"I'm using 3 days I'm really impressedREAD MORE\", '4.5★', 'An awesome quality. Impressed. thank you Flipkart. love itREAD MORE', 'Too gud.. I just loved it🤩READ MORE', 'camera more then average as 48 MP camera is not so wow, speed of processor is good, display and interface very good. Design is ultimate. Storage high.Night mode is good. Overall satisfied.READ MORE', 'nice phoneREAD MORE', 'Realme 5 Pro is the best budget smartphone out there# 8gbCamera being the highlighting feature of this phone, It really does a great job# Nightscapes # Potraits # ultra 48mp #Slowmotion #Video Just Amazing Sharing some of my photo samples below ,Battery performance # comes 32 hours with all day internet usage without gaming # Charging is very fast a 15 mins charge is enough to easily run the device for 6-7 hoursA little disappointed because they launched Realme xT really fast after Realme...READ MORE', 'nice PhoneREAD MORE', 'good phn... worth ..front cam dissappointed..good battery ... vooc charge is best... performance is good...neat display..worth for moneyREAD MORE', 'Awesome product, Camera is incredible. loved itThumbs up to 😎🤓READ MORE', 'I appreciate the service of Flipkart first for their timely delivery. Realme 5 pro. I got attracted to this phone by seeing its camera. it is utter failure. it says it has 48 MP camera. but the 48 is  just a number. performance wise the phone is okay it seems. I have been using this phone for only 4 days. rest can be seen.READ MORE', 'Fantastic Mobile Nice Camera Good For Photography Budget phone Rear Camera is superREAD MORE']\n",
      "[5, 5, 5, 5, 5, 5, 5, 5, 5, 5, 4, 5, 4, 5, 4, 5, 5, 4, 5, 3, 5]\n"
     ]
    }
   ],
   "source": [
    "print(b)\n",
    "print(r)"
   ]
  },
  {
   "cell_type": "code",
   "execution_count": 32,
   "metadata": {},
   "outputs": [],
   "source": [
    "url2 = \"https://www.flipkart.com/realme-5-pro-sparkling-blue-128-gb/product-reviews/itmfj9twdugyvg77?pid=MOBFJ9TWAEBGAYFR&page=3\""
   ]
  },
  {
   "cell_type": "code",
   "execution_count": 33,
   "metadata": {},
   "outputs": [],
   "source": [
    "uclient = ureq(url2)\n",
    "page_html = uclient.read()\n",
    "uclient.close()\n",
    "page_soup2 = soup(page_html,'html.parser')"
   ]
  },
  {
   "cell_type": "code",
   "execution_count": 34,
   "metadata": {},
   "outputs": [],
   "source": [
    "container2 = page_soup2.findAll(\"div\",{\"class\":\"bhgxx2 col-12-12\"})"
   ]
  },
  {
   "cell_type": "code",
   "execution_count": 35,
   "metadata": {},
   "outputs": [
    {
     "data": {
      "text/plain": [
       "15"
      ]
     },
     "execution_count": 35,
     "metadata": {},
     "output_type": "execute_result"
    }
   ],
   "source": [
    "len(container2)"
   ]
  },
  {
   "cell_type": "code",
   "execution_count": 36,
   "metadata": {},
   "outputs": [],
   "source": [
    "for i in range(3,14,1):\n",
    "    review2 = container2[i].findAll(\"div\",{\"class\":\"row\"})\n",
    "    z = review2[1].text\n",
    "    c = review2[0].text\n",
    "    c = int(c[0])\n",
    "    r.append(c)\n",
    "    b.append(z)"
   ]
  },
  {
   "cell_type": "code",
   "execution_count": 37,
   "metadata": {},
   "outputs": [
    {
     "data": {
      "text/plain": [
       "['No. 1 Quality Smartphone Brand realme. 8GB is awesome flagship with Snapdragon 712, hyperboost and UFS 2.1. VOOC fast charging too. The best phone for gamers. Quad camera have captured some great shots.READ MORE',\n",
       " 'realme 5 pro is awesome mobile for this range. design,look is really nice.. I love this phone value for money...,😍😘READ MORE',\n",
       " 'Last week got hands on realme 5 Pro 8 GB Crytal green variant on the first sale itself, the device offers such great features at a very minimal price. Here are my views on the same. Pros: 1) The much amazing quad camera to capture great memories with great clarity. Macro lens is my personal favourite. 2) Getting a Vooc 3.0 in box charger along with a Type C, a complete hassle-free charging experience3) An AI 712 processor along for a smooth and lag-free performance.4) An expandable memor...READ MORE',\n",
       " 'so super Very fast charging and very nice zooming camera then so NiceREAD MORE',\n",
       " 'perfect on tym.... as dey said  bingo...   moble looks goood . its early to comment on it... but looks gr8READ MORE',\n",
       " 'good performance, excellent cam.loved ultra wide angle lens 😍😎Dare to leapREAD MORE',\n",
       " 'Nice mobileREAD MORE',\n",
       " 'Awesome device, and hats off to Flipkart for such speedy delivery.I ordered it on 4th Sep 12PM and it got delivered by 5th Sep 10AM. I am absolutely loving this device, buttery smooth and blazing fast. This is one of the best mobile phone. I am using it last 8 days and I am very happy with this. Build quality is amazing. Camera is superb, performance is awesome, battery life is also good and also get  fast charger.READ MORE',\n",
       " 'Awesome mobile at this Price. Good camera quality , High resolution display. I bought Crystal green colour  because it’s attractiveREAD MORE',\n",
       " \"I'm using 3 days I'm really impressedREAD MORE\",\n",
       " '4.5★',\n",
       " 'An awesome quality. Impressed. thank you Flipkart. love itREAD MORE',\n",
       " 'Too gud.. I just loved it🤩READ MORE',\n",
       " 'camera more then average as 48 MP camera is not so wow, speed of processor is good, display and interface very good. Design is ultimate. Storage high.Night mode is good. Overall satisfied.READ MORE',\n",
       " 'nice phoneREAD MORE',\n",
       " 'Realme 5 Pro is the best budget smartphone out there# 8gbCamera being the highlighting feature of this phone, It really does a great job# Nightscapes # Potraits # ultra 48mp #Slowmotion #Video Just Amazing Sharing some of my photo samples below ,Battery performance # comes 32 hours with all day internet usage without gaming # Charging is very fast a 15 mins charge is enough to easily run the device for 6-7 hoursA little disappointed because they launched Realme xT really fast after Realme...READ MORE',\n",
       " 'nice PhoneREAD MORE',\n",
       " 'good phn... worth ..front cam dissappointed..good battery ... vooc charge is best... performance is good...neat display..worth for moneyREAD MORE',\n",
       " 'Awesome product, Camera is incredible. loved itThumbs up to 😎🤓READ MORE',\n",
       " 'I appreciate the service of Flipkart first for their timely delivery. Realme 5 pro. I got attracted to this phone by seeing its camera. it is utter failure. it says it has 48 MP camera. but the 48 is  just a number. performance wise the phone is okay it seems. I have been using this phone for only 4 days. rest can be seen.READ MORE',\n",
       " 'Fantastic Mobile Nice Camera Good For Photography Budget phone Rear Camera is superREAD MORE',\n",
       " '4.5★',\n",
       " 'I used redmi note 3 for 3 years so I will be writing this review based on my experience of these 2 mobiles. I was reluctant to ditch redmi because I love MIUI. so I got the mobile yesterday and camera us good specifically micro camera as being a professional I need to take close photograph. switching between apps is smoothness, battery could have been better on 4G but still I will last 1 day(actually i expected more), charging is fast, screen guard is preapplied, case comes with mobile and is...READ MORE',\n",
       " 'super camera view 👌 😍READ MORE',\n",
       " 'After using 2 days :pros:1. Awesome Camera. (Both Rear and Front)2. Low light camera performance is good.  3. Sound from the speaker is louder.4. Gradient design makes the phone feel unique.5. Performance is smooth.  6. Excellent phone with smart pricing7. Awesome display8.Great performance9 Premium lookI am not a big fan of Realme.. but this Realme 5 Pro Phone really awesome phone guys... go for it .READ MORE',\n",
       " 'Awesome phone at this range, value for moneyREAD MORE',\n",
       " 'Used this phone for more than a day. Yes... this phone is awesome buy in such a low price. Do check below details about each feature of this phone.Performance: 10/10 - PubG works very smooth along with all applicationsDisplay: 9/10Camera: 8/10 - 48 MP Camera is not up to mark, but coolBudget: 10/10 - No other phone in this price range..best buyOverall : 10/10 - The best experience you can have.Also, VOOC charge... charges 20% to 100% in just 35 minutes. Once fully charged, you can use...READ MORE',\n",
       " 'Worth to spend 17k best mobile under 20k.READ MORE',\n",
       " 'Best mobile in this price segment and It is worthy for money.U can go for it without doubt.READ MORE',\n",
       " \"best camera currently in market such good quality'slot of comparison i choose this mobile picture quality 48 mp best if indisplay fingerprint is missing thats a major dropREAD MORE\",\n",
       " 'Just one word - mind blowing phone 😊😊😊😊.Phone looks very premium specially green variant 😍Pubg game in HD setting................5/5Display brightness...........................5/5Look.................................................10/5😊Performance .....................................5/5READ MORE',\n",
       " 'Perfect phone. Everything you need in one mobile. 8GB RAM, 128GB ROM, 48 MP rear camera, 8MP wide angle camera. There was no need for macro cam. Can make slow move videos with good quality.5* Zoom. 712 Snapdragon Octa core processor. No lags in gaming and ultra hd display. Loved this phone. Will recommend as it is the best budget phone at present with so much specifications.READ MORE']"
      ]
     },
     "execution_count": 37,
     "metadata": {},
     "output_type": "execute_result"
    }
   ],
   "source": [
    "b"
   ]
  },
  {
   "cell_type": "code",
   "execution_count": 38,
   "metadata": {},
   "outputs": [],
   "source": [
    "url3 = \"https://www.flipkart.com/realme-5-pro-sparkling-blue-128-gb/product-reviews/itmfj9twdugyvg77?pid=MOBFJ9TWAEBGAYFR&page=4\""
   ]
  },
  {
   "cell_type": "code",
   "execution_count": 39,
   "metadata": {},
   "outputs": [],
   "source": [
    "uclient = ureq(url3)\n",
    "page_html = uclient.read()\n",
    "uclient.close()\n",
    "page_soup3 = soup(page_html,'html.parser')"
   ]
  },
  {
   "cell_type": "code",
   "execution_count": 40,
   "metadata": {},
   "outputs": [],
   "source": [
    "container3 = page_soup3.findAll(\"div\",{\"class\":\"bhgxx2 col-12-12\"})"
   ]
  },
  {
   "cell_type": "code",
   "execution_count": 41,
   "metadata": {},
   "outputs": [
    {
     "data": {
      "text/plain": [
       "15"
      ]
     },
     "execution_count": 41,
     "metadata": {},
     "output_type": "execute_result"
    }
   ],
   "source": [
    "len(container3)"
   ]
  },
  {
   "cell_type": "code",
   "execution_count": 42,
   "metadata": {},
   "outputs": [],
   "source": [
    "for i in range(3,14,1):\n",
    "    review3 = container3[i].findAll(\"div\",{\"class\":\"row\"})\n",
    "    z = review3[1].text\n",
    "    c = review3[0].text\n",
    "    c = int(c[0])\n",
    "    r.append(c)\n",
    "    b.append(z)"
   ]
  },
  {
   "cell_type": "code",
   "execution_count": 43,
   "metadata": {
    "scrolled": true
   },
   "outputs": [
    {
     "name": "stdout",
     "output_type": "stream",
     "text": [
      "['No. 1 Quality Smartphone Brand realme. 8GB is awesome flagship with Snapdragon 712, hyperboost and UFS 2.1. VOOC fast charging too. The best phone for gamers. Quad camera have captured some great shots.READ MORE', 'realme 5 pro is awesome mobile for this range. design,look is really nice.. I love this phone value for money...,😍😘READ MORE', 'Last week got hands on realme 5 Pro 8 GB Crytal green variant on the first sale itself, the device offers such great features at a very minimal price. Here are my views on the same. Pros: 1) The much amazing quad camera to capture great memories with great clarity. Macro lens is my personal favourite. 2) Getting a Vooc 3.0 in box charger along with a Type C, a complete hassle-free charging experience3) An AI 712 processor along for a smooth and lag-free performance.4) An expandable memor...READ MORE', 'so super Very fast charging and very nice zooming camera then so NiceREAD MORE', 'perfect on tym.... as dey said  bingo...   moble looks goood . its early to comment on it... but looks gr8READ MORE', 'good performance, excellent cam.loved ultra wide angle lens 😍😎Dare to leapREAD MORE', 'Nice mobileREAD MORE', 'Awesome device, and hats off to Flipkart for such speedy delivery.I ordered it on 4th Sep 12PM and it got delivered by 5th Sep 10AM. I am absolutely loving this device, buttery smooth and blazing fast. This is one of the best mobile phone. I am using it last 8 days and I am very happy with this. Build quality is amazing. Camera is superb, performance is awesome, battery life is also good and also get  fast charger.READ MORE', 'Awesome mobile at this Price. Good camera quality , High resolution display. I bought Crystal green colour  because it’s attractiveREAD MORE', \"I'm using 3 days I'm really impressedREAD MORE\", '4.5★', 'An awesome quality. Impressed. thank you Flipkart. love itREAD MORE', 'Too gud.. I just loved it🤩READ MORE', 'camera more then average as 48 MP camera is not so wow, speed of processor is good, display and interface very good. Design is ultimate. Storage high.Night mode is good. Overall satisfied.READ MORE', 'nice phoneREAD MORE', 'Realme 5 Pro is the best budget smartphone out there# 8gbCamera being the highlighting feature of this phone, It really does a great job# Nightscapes # Potraits # ultra 48mp #Slowmotion #Video Just Amazing Sharing some of my photo samples below ,Battery performance # comes 32 hours with all day internet usage without gaming # Charging is very fast a 15 mins charge is enough to easily run the device for 6-7 hoursA little disappointed because they launched Realme xT really fast after Realme...READ MORE', 'nice PhoneREAD MORE', 'good phn... worth ..front cam dissappointed..good battery ... vooc charge is best... performance is good...neat display..worth for moneyREAD MORE', 'Awesome product, Camera is incredible. loved itThumbs up to 😎🤓READ MORE', 'I appreciate the service of Flipkart first for their timely delivery. Realme 5 pro. I got attracted to this phone by seeing its camera. it is utter failure. it says it has 48 MP camera. but the 48 is  just a number. performance wise the phone is okay it seems. I have been using this phone for only 4 days. rest can be seen.READ MORE', 'Fantastic Mobile Nice Camera Good For Photography Budget phone Rear Camera is superREAD MORE', '4.5★', 'I used redmi note 3 for 3 years so I will be writing this review based on my experience of these 2 mobiles. I was reluctant to ditch redmi because I love MIUI. so I got the mobile yesterday and camera us good specifically micro camera as being a professional I need to take close photograph. switching between apps is smoothness, battery could have been better on 4G but still I will last 1 day(actually i expected more), charging is fast, screen guard is preapplied, case comes with mobile and is...READ MORE', 'super camera view 👌 😍READ MORE', 'After using 2 days :pros:1. Awesome Camera. (Both Rear and Front)2. Low light camera performance is good.  3. Sound from the speaker is louder.4. Gradient design makes the phone feel unique.5. Performance is smooth.  6. Excellent phone with smart pricing7. Awesome display8.Great performance9 Premium lookI am not a big fan of Realme.. but this Realme 5 Pro Phone really awesome phone guys... go for it .READ MORE', 'Awesome phone at this range, value for moneyREAD MORE', 'Used this phone for more than a day. Yes... this phone is awesome buy in such a low price. Do check below details about each feature of this phone.Performance: 10/10 - PubG works very smooth along with all applicationsDisplay: 9/10Camera: 8/10 - 48 MP Camera is not up to mark, but coolBudget: 10/10 - No other phone in this price range..best buyOverall : 10/10 - The best experience you can have.Also, VOOC charge... charges 20% to 100% in just 35 minutes. Once fully charged, you can use...READ MORE', 'Worth to spend 17k best mobile under 20k.READ MORE', 'Best mobile in this price segment and It is worthy for money.U can go for it without doubt.READ MORE', \"best camera currently in market such good quality'slot of comparison i choose this mobile picture quality 48 mp best if indisplay fingerprint is missing thats a major dropREAD MORE\", 'Just one word - mind blowing phone 😊😊😊😊.Phone looks very premium specially green variant 😍Pubg game in HD setting................5/5Display brightness...........................5/5Look.................................................10/5😊Performance .....................................5/5READ MORE', 'Perfect phone. Everything you need in one mobile. 8GB RAM, 128GB ROM, 48 MP rear camera, 8MP wide angle camera. There was no need for macro cam. Can make slow move videos with good quality.5* Zoom. 712 Snapdragon Octa core processor. No lags in gaming and ultra hd display. Loved this phone. Will recommend as it is the best budget phone at present with so much specifications.READ MORE', '4.5★', \"This is my third android phone... I used before it Samsung and Lenovo version but over all I like it mostly because it comes with tremendous ram and ROM as well as it's camera is good as compared to other.READ MORE\", 'I HAD NEVER USED A REALME PHONE EARLIER CUZ I AM A XIAOMI FANBOY , SO I THINK TO GIVE THIS A TRY , AND I CAN PROUDLY SAY THAT I GOT A MASTERPIECE AND A VALUE FOR PRISE PRODUCT , I AM PRETTY HAPPY WITH THIS , GOOD PERFORMANCE WHILE GAMING NO FPS DROP OR LAG ISSUE , THE CRYSTAL GREEN COLUR LOOKS COOL , AND AS I HAVE BROUGHT 8GB RAM VERSION ITS A BEAST AT ITS PRISE POINT. SO DONT HESITATE ANG GO FOR IT , BUT REMEMBER ITS BETTER TO GO WITH 8GB RAM...READ MORE', 'SuperbREAD MORE', 'good in hand feelbest camera loud and clear soundREAD MORE', 'nice product vale for moneyREAD MORE', 'Delivered within a day! The camera is the best feature of the phone according to me! Terrific purchase in this price slot! worth every single penny. Too early for a review but pretty sure it is great model.READ MORE', 'perfect for photography ...READ MORE', \"I have ordered this phone and it was delivered on 14th September and I came to notice that the phone looks like a second hand product. the  display of the phone is damaged as well as there are scratches on the body of the phone as   well. from 14th September I'm trying to return this product and I'm not able to do so. the dealing is very poor.  till now I'm not able to get a solution. this is for the 1st time I'm getting such a bad experience from flipkart.READ MORE\", \"Impressive Phone at its first use but phone is similar to earlier version of realme pro with upgrade in camera and battery... Super fast Delivery by Flipkart less than 24 hours (REMARKABLE)pros .SD 712 processor at this range of priceAwesome Camera (SUPER PLUS POINT)battery with vooc charge (ICINGS ON THE CAKE)Huge memory 128GB plus Tripple slot (2 sim plus one sd card slot) unbeatable.design is coolcons (not much noticed)face unlock is quick but doesn't work in dark sound could ...READ MORE\", 'super camera and performance...READ MORE']\n",
      "[5, 5, 5, 5, 5, 5, 5, 5, 5, 5, 4, 5, 4, 5, 4, 5, 5, 4, 5, 3, 5, 4, 4, 5, 5, 4, 5, 5, 5, 5, 5, 5, 4, 5, 5, 5, 5, 5, 5, 5, 1, 4, 5]\n"
     ]
    }
   ],
   "source": [
    "print(b)\n",
    "print(r)"
   ]
  },
  {
   "cell_type": "code",
   "execution_count": 44,
   "metadata": {},
   "outputs": [
    {
     "data": {
      "text/html": [
       "<div>\n",
       "<style scoped>\n",
       "    .dataframe tbody tr th:only-of-type {\n",
       "        vertical-align: middle;\n",
       "    }\n",
       "\n",
       "    .dataframe tbody tr th {\n",
       "        vertical-align: top;\n",
       "    }\n",
       "\n",
       "    .dataframe thead th {\n",
       "        text-align: right;\n",
       "    }\n",
       "</style>\n",
       "<table border=\"1\" class=\"dataframe\">\n",
       "  <thead>\n",
       "    <tr style=\"text-align: right;\">\n",
       "      <th></th>\n",
       "      <th>0</th>\n",
       "    </tr>\n",
       "  </thead>\n",
       "  <tbody>\n",
       "    <tr>\n",
       "      <th>0</th>\n",
       "      <td>No. 1 Quality Smartphone Brand realme. 8GB is ...</td>\n",
       "    </tr>\n",
       "    <tr>\n",
       "      <th>1</th>\n",
       "      <td>realme 5 pro is awesome mobile for this range....</td>\n",
       "    </tr>\n",
       "    <tr>\n",
       "      <th>2</th>\n",
       "      <td>Last week got hands on realme 5 Pro 8 GB Cryta...</td>\n",
       "    </tr>\n",
       "    <tr>\n",
       "      <th>3</th>\n",
       "      <td>so super Very fast charging and very nice zoom...</td>\n",
       "    </tr>\n",
       "    <tr>\n",
       "      <th>4</th>\n",
       "      <td>perfect on tym.... as dey said  bingo...   mob...</td>\n",
       "    </tr>\n",
       "  </tbody>\n",
       "</table>\n",
       "</div>"
      ],
      "text/plain": [
       "                                                   0\n",
       "0  No. 1 Quality Smartphone Brand realme. 8GB is ...\n",
       "1  realme 5 pro is awesome mobile for this range....\n",
       "2  Last week got hands on realme 5 Pro 8 GB Cryta...\n",
       "3  so super Very fast charging and very nice zoom...\n",
       "4  perfect on tym.... as dey said  bingo...   mob..."
      ]
     },
     "execution_count": 44,
     "metadata": {},
     "output_type": "execute_result"
    }
   ],
   "source": [
    "import pandas as pd\n",
    "b = pd.DataFrame(b)\n",
    "b.head()"
   ]
  },
  {
   "cell_type": "code",
   "execution_count": 45,
   "metadata": {
    "scrolled": true
   },
   "outputs": [],
   "source": [
    "import re \n",
    "def rmno(text):\n",
    "        tt = re.split('\\W+',text)\n",
    "        return tt\n",
    "\n",
    "b[0] = b[0].apply(lambda x : rmno(x))"
   ]
  },
  {
   "cell_type": "code",
   "execution_count": 46,
   "metadata": {},
   "outputs": [
    {
     "data": {
      "text/html": [
       "<div>\n",
       "<style scoped>\n",
       "    .dataframe tbody tr th:only-of-type {\n",
       "        vertical-align: middle;\n",
       "    }\n",
       "\n",
       "    .dataframe tbody tr th {\n",
       "        vertical-align: top;\n",
       "    }\n",
       "\n",
       "    .dataframe thead th {\n",
       "        text-align: right;\n",
       "    }\n",
       "</style>\n",
       "<table border=\"1\" class=\"dataframe\">\n",
       "  <thead>\n",
       "    <tr style=\"text-align: right;\">\n",
       "      <th></th>\n",
       "      <th>0</th>\n",
       "    </tr>\n",
       "  </thead>\n",
       "  <tbody>\n",
       "    <tr>\n",
       "      <th>0</th>\n",
       "      <td>[No, 1, Quality, Smartphone, Brand, realme, 8G...</td>\n",
       "    </tr>\n",
       "    <tr>\n",
       "      <th>1</th>\n",
       "      <td>[realme, 5, pro, is, awesome, mobile, for, thi...</td>\n",
       "    </tr>\n",
       "    <tr>\n",
       "      <th>2</th>\n",
       "      <td>[Last, week, got, hands, on, realme, 5, Pro, 8...</td>\n",
       "    </tr>\n",
       "    <tr>\n",
       "      <th>3</th>\n",
       "      <td>[so, super, Very, fast, charging, and, very, n...</td>\n",
       "    </tr>\n",
       "    <tr>\n",
       "      <th>4</th>\n",
       "      <td>[perfect, on, tym, as, dey, said, bingo, moble...</td>\n",
       "    </tr>\n",
       "    <tr>\n",
       "      <th>5</th>\n",
       "      <td>[good, performance, excellent, cam, loved, ult...</td>\n",
       "    </tr>\n",
       "    <tr>\n",
       "      <th>6</th>\n",
       "      <td>[Nice, mobileREAD, MORE]</td>\n",
       "    </tr>\n",
       "    <tr>\n",
       "      <th>7</th>\n",
       "      <td>[Awesome, device, and, hats, off, to, Flipkart...</td>\n",
       "    </tr>\n",
       "    <tr>\n",
       "      <th>8</th>\n",
       "      <td>[Awesome, mobile, at, this, Price, Good, camer...</td>\n",
       "    </tr>\n",
       "    <tr>\n",
       "      <th>9</th>\n",
       "      <td>[I, m, using, 3, days, I, m, really, impressed...</td>\n",
       "    </tr>\n",
       "  </tbody>\n",
       "</table>\n",
       "</div>"
      ],
      "text/plain": [
       "                                                   0\n",
       "0  [No, 1, Quality, Smartphone, Brand, realme, 8G...\n",
       "1  [realme, 5, pro, is, awesome, mobile, for, thi...\n",
       "2  [Last, week, got, hands, on, realme, 5, Pro, 8...\n",
       "3  [so, super, Very, fast, charging, and, very, n...\n",
       "4  [perfect, on, tym, as, dey, said, bingo, moble...\n",
       "5  [good, performance, excellent, cam, loved, ult...\n",
       "6                           [Nice, mobileREAD, MORE]\n",
       "7  [Awesome, device, and, hats, off, to, Flipkart...\n",
       "8  [Awesome, mobile, at, this, Price, Good, camer...\n",
       "9  [I, m, using, 3, days, I, m, really, impressed..."
      ]
     },
     "execution_count": 46,
     "metadata": {},
     "output_type": "execute_result"
    }
   ],
   "source": [
    "b.head(10)"
   ]
  },
  {
   "cell_type": "code",
   "execution_count": 47,
   "metadata": {},
   "outputs": [
    {
     "data": {
      "text/html": [
       "<div>\n",
       "<style scoped>\n",
       "    .dataframe tbody tr th:only-of-type {\n",
       "        vertical-align: middle;\n",
       "    }\n",
       "\n",
       "    .dataframe tbody tr th {\n",
       "        vertical-align: top;\n",
       "    }\n",
       "\n",
       "    .dataframe thead th {\n",
       "        text-align: right;\n",
       "    }\n",
       "</style>\n",
       "<table border=\"1\" class=\"dataframe\">\n",
       "  <thead>\n",
       "    <tr style=\"text-align: right;\">\n",
       "      <th></th>\n",
       "      <th>0</th>\n",
       "    </tr>\n",
       "  </thead>\n",
       "  <tbody>\n",
       "    <tr>\n",
       "      <th>0</th>\n",
       "      <td>[No, 1, Quality, Smartphone, Brand, realme, 8G...</td>\n",
       "    </tr>\n",
       "    <tr>\n",
       "      <th>1</th>\n",
       "      <td>[realme, 5, pro, awesome, mobile, range, desig...</td>\n",
       "    </tr>\n",
       "    <tr>\n",
       "      <th>2</th>\n",
       "      <td>[Last, week, got, hands, realme, 5, Pro, 8, GB...</td>\n",
       "    </tr>\n",
       "    <tr>\n",
       "      <th>3</th>\n",
       "      <td>[super, Very, fast, charging, nice, zooming, c...</td>\n",
       "    </tr>\n",
       "    <tr>\n",
       "      <th>4</th>\n",
       "      <td>[perfect, tym, dey, said, bingo, moble, looks,...</td>\n",
       "    </tr>\n",
       "    <tr>\n",
       "      <th>5</th>\n",
       "      <td>[good, performance, excellent, cam, loved, ult...</td>\n",
       "    </tr>\n",
       "    <tr>\n",
       "      <th>6</th>\n",
       "      <td>[Nice, mobileREAD, MORE]</td>\n",
       "    </tr>\n",
       "    <tr>\n",
       "      <th>7</th>\n",
       "      <td>[Awesome, device, hats, Flipkart, speedy, deli...</td>\n",
       "    </tr>\n",
       "    <tr>\n",
       "      <th>8</th>\n",
       "      <td>[Awesome, mobile, Price, Good, camera, quality...</td>\n",
       "    </tr>\n",
       "    <tr>\n",
       "      <th>9</th>\n",
       "      <td>[I, using, 3, days, I, really, impressedREAD, ...</td>\n",
       "    </tr>\n",
       "  </tbody>\n",
       "</table>\n",
       "</div>"
      ],
      "text/plain": [
       "                                                   0\n",
       "0  [No, 1, Quality, Smartphone, Brand, realme, 8G...\n",
       "1  [realme, 5, pro, awesome, mobile, range, desig...\n",
       "2  [Last, week, got, hands, realme, 5, Pro, 8, GB...\n",
       "3  [super, Very, fast, charging, nice, zooming, c...\n",
       "4  [perfect, tym, dey, said, bingo, moble, looks,...\n",
       "5  [good, performance, excellent, cam, loved, ult...\n",
       "6                           [Nice, mobileREAD, MORE]\n",
       "7  [Awesome, device, hats, Flipkart, speedy, deli...\n",
       "8  [Awesome, mobile, Price, Good, camera, quality...\n",
       "9  [I, using, 3, days, I, really, impressedREAD, ..."
      ]
     },
     "execution_count": 47,
     "metadata": {},
     "output_type": "execute_result"
    }
   ],
   "source": [
    "import nltk\n",
    "stpw = nltk.corpus.stopwords.words('english')\n",
    "def rmstp(text):\n",
    "    tt = [char for char in text if char not in stpw]\n",
    "    return tt\n",
    "b[0] = b[0].apply(lambda x:rmstp(x))\n",
    "b.head(10)\n",
    "    "
   ]
  },
  {
   "cell_type": "code",
   "execution_count": 48,
   "metadata": {},
   "outputs": [],
   "source": [
    "ps = nltk.PorterStemmer()\n",
    "def rmstmer(text):\n",
    "    tt = [ps.stem(char.lower()) for char in text]\n",
    "    return tt\n",
    "b[0] = b[0].apply(lambda x:rmstmer(x))"
   ]
  },
  {
   "cell_type": "code",
   "execution_count": 49,
   "metadata": {},
   "outputs": [
    {
     "data": {
      "text/html": [
       "<div>\n",
       "<style scoped>\n",
       "    .dataframe tbody tr th:only-of-type {\n",
       "        vertical-align: middle;\n",
       "    }\n",
       "\n",
       "    .dataframe tbody tr th {\n",
       "        vertical-align: top;\n",
       "    }\n",
       "\n",
       "    .dataframe thead th {\n",
       "        text-align: right;\n",
       "    }\n",
       "</style>\n",
       "<table border=\"1\" class=\"dataframe\">\n",
       "  <thead>\n",
       "    <tr style=\"text-align: right;\">\n",
       "      <th></th>\n",
       "      <th>0</th>\n",
       "    </tr>\n",
       "  </thead>\n",
       "  <tbody>\n",
       "    <tr>\n",
       "      <th>0</th>\n",
       "      <td>[no, 1, qualiti, smartphon, brand, realm, 8gb,...</td>\n",
       "    </tr>\n",
       "    <tr>\n",
       "      <th>1</th>\n",
       "      <td>[realm, 5, pro, awesom, mobil, rang, design, l...</td>\n",
       "    </tr>\n",
       "    <tr>\n",
       "      <th>2</th>\n",
       "      <td>[last, week, got, hand, realm, 5, pro, 8, gb, ...</td>\n",
       "    </tr>\n",
       "    <tr>\n",
       "      <th>3</th>\n",
       "      <td>[super, veri, fast, charg, nice, zoom, camera,...</td>\n",
       "    </tr>\n",
       "    <tr>\n",
       "      <th>4</th>\n",
       "      <td>[perfect, tym, dey, said, bingo, mobl, look, g...</td>\n",
       "    </tr>\n",
       "  </tbody>\n",
       "</table>\n",
       "</div>"
      ],
      "text/plain": [
       "                                                   0\n",
       "0  [no, 1, qualiti, smartphon, brand, realm, 8gb,...\n",
       "1  [realm, 5, pro, awesom, mobil, rang, design, l...\n",
       "2  [last, week, got, hand, realm, 5, pro, 8, gb, ...\n",
       "3  [super, veri, fast, charg, nice, zoom, camera,...\n",
       "4  [perfect, tym, dey, said, bingo, mobl, look, g..."
      ]
     },
     "execution_count": 49,
     "metadata": {},
     "output_type": "execute_result"
    }
   ],
   "source": [
    "b.head()"
   ]
  },
  {
   "cell_type": "code",
   "execution_count": 50,
   "metadata": {},
   "outputs": [
    {
     "name": "stdout",
     "output_type": "stream",
     "text": [
      "<class 'pandas.core.frame.DataFrame'>\n",
      "RangeIndex: 43 entries, 0 to 42\n",
      "Data columns (total 1 columns):\n",
      "0    43 non-null object\n",
      "dtypes: object(1)\n",
      "memory usage: 424.0+ bytes\n"
     ]
    }
   ],
   "source": [
    "b.info()"
   ]
  },
  {
   "cell_type": "code",
   "execution_count": 51,
   "metadata": {},
   "outputs": [],
   "source": [
    "import matplotlib.pyplot as plt"
   ]
  },
  {
   "cell_type": "code",
   "execution_count": 52,
   "metadata": {},
   "outputs": [
    {
     "data": {
      "image/png": "[encoded data removed]",
      "text/plain": [
       "<Figure size 360x360 with 1 Axes>"
      ]
     },
     "metadata": {
      "needs_background": "light"
     },
     "output_type": "display_data"
    }
   ],
   "source": [
    "from wordcloud import WordCloud\n",
    "comment_words = ' '\n",
    "for i in b[0]: \n",
    "    for words in i:\n",
    "        comment_words = comment_words + words + ' ' \n",
    "wordcloud = WordCloud(width = 600, height = 600, \n",
    "                background_color='white' , \n",
    "\n",
    "                min_font_size = 10).generate(comment_words) \n",
    "  \n",
    "# plot the WordCloud image                        \n",
    "plt.figure(figsize = (5, 5), facecolor = None) \n",
    "plt.imshow(wordcloud) \n",
    "plt.axis(\"off\") \n",
    "plt.tight_layout(pad = 0)"
   ]
  },
  {
   "cell_type": "code",
   "execution_count": 53,
   "metadata": {},
   "outputs": [],
   "source": [
    "import numpy as np"
   ]
  },
  {
   "cell_type": "code",
   "execution_count": 54,
   "metadata": {},
   "outputs": [],
   "source": [
    "b[1] = r\n"
   ]
  },
  {
   "cell_type": "code",
   "execution_count": 55,
   "metadata": {},
   "outputs": [
    {
     "data": {
      "text/html": [
       "<div>\n",
       "<style scoped>\n",
       "    .dataframe tbody tr th:only-of-type {\n",
       "        vertical-align: middle;\n",
       "    }\n",
       "\n",
       "    .dataframe tbody tr th {\n",
       "        vertical-align: top;\n",
       "    }\n",
       "\n",
       "    .dataframe thead th {\n",
       "        text-align: right;\n",
       "    }\n",
       "</style>\n",
       "<table border=\"1\" class=\"dataframe\">\n",
       "  <thead>\n",
       "    <tr style=\"text-align: right;\">\n",
       "      <th></th>\n",
       "      <th>0</th>\n",
       "      <th>1</th>\n",
       "    </tr>\n",
       "  </thead>\n",
       "  <tbody>\n",
       "    <tr>\n",
       "      <th>0</th>\n",
       "      <td>[no, 1, qualiti, smartphon, brand, realm, 8gb,...</td>\n",
       "      <td>5</td>\n",
       "    </tr>\n",
       "    <tr>\n",
       "      <th>1</th>\n",
       "      <td>[realm, 5, pro, awesom, mobil, rang, design, l...</td>\n",
       "      <td>5</td>\n",
       "    </tr>\n",
       "    <tr>\n",
       "      <th>2</th>\n",
       "      <td>[last, week, got, hand, realm, 5, pro, 8, gb, ...</td>\n",
       "      <td>5</td>\n",
       "    </tr>\n",
       "    <tr>\n",
       "      <th>3</th>\n",
       "      <td>[super, veri, fast, charg, nice, zoom, camera,...</td>\n",
       "      <td>5</td>\n",
       "    </tr>\n",
       "    <tr>\n",
       "      <th>4</th>\n",
       "      <td>[perfect, tym, dey, said, bingo, mobl, look, g...</td>\n",
       "      <td>5</td>\n",
       "    </tr>\n",
       "  </tbody>\n",
       "</table>\n",
       "</div>"
      ],
      "text/plain": [
       "                                                   0  1\n",
       "0  [no, 1, qualiti, smartphon, brand, realm, 8gb,...  5\n",
       "1  [realm, 5, pro, awesom, mobil, rang, design, l...  5\n",
       "2  [last, week, got, hand, realm, 5, pro, 8, gb, ...  5\n",
       "3  [super, veri, fast, charg, nice, zoom, camera,...  5\n",
       "4  [perfect, tym, dey, said, bingo, mobl, look, g...  5"
      ]
     },
     "execution_count": 55,
     "metadata": {},
     "output_type": "execute_result"
    }
   ],
   "source": [
    "b.head()"
   ]
  },
  {
   "cell_type": "code",
   "execution_count": 56,
   "metadata": {},
   "outputs": [],
   "source": [
    "from sklearn.feature_extraction.text import TfidfVectorizer"
   ]
  },
  {
   "cell_type": "code",
   "execution_count": 57,
   "metadata": {},
   "outputs": [],
   "source": [
    "vect = TfidfVectorizer(analyzer=rmstmer)\n",
    "xvect = vect.fit_transform(b[0])\n"
   ]
  },
  {
   "cell_type": "code",
   "execution_count": 58,
   "metadata": {},
   "outputs": [
    {
     "data": {
      "text/plain": [
       "(43, 437)"
      ]
     },
     "execution_count": 58,
     "metadata": {},
     "output_type": "execute_result"
    }
   ],
   "source": [
    "Xvect = pd.concat([b[0].reset_index(drop=True), \n",
    "           pd.DataFrame(xvect.toarray())], axis=1)\n",
    "Xvect.shape\n"
   ]
  },
  {
   "cell_type": "code",
   "execution_count": 59,
   "metadata": {},
   "outputs": [],
   "source": [
    "y = b[1]\n",
    "Xvect.drop(0,axis=1,inplace=True)"
   ]
  },
  {
   "cell_type": "code",
   "execution_count": 60,
   "metadata": {},
   "outputs": [
    {
     "data": {
      "text/plain": [
       "(43, 435)"
      ]
     },
     "execution_count": 60,
     "metadata": {},
     "output_type": "execute_result"
    }
   ],
   "source": [
    "Xvect.shape"
   ]
  },
  {
   "cell_type": "code",
   "execution_count": 61,
   "metadata": {},
   "outputs": [],
   "source": [
    "from sklearn.model_selection import train_test_split"
   ]
  },
  {
   "cell_type": "code",
   "execution_count": 63,
   "metadata": {},
   "outputs": [],
   "source": [
    "xtrain,xtest,ytrain,ytest = train_test_split(Xvect,y,test_size=0.2,random_state=20)"
   ]
  },
  {
   "cell_type": "code",
   "execution_count": 64,
   "metadata": {},
   "outputs": [],
   "source": [
    "from sklearn.ensemble import GradientBoostingClassifier\n",
    "gr = GradientBoostingClassifier(n_estimators=150,max_depth=10)\n",
    "model = gr.fit(xtrain,ytrain)\n",
    "pred = model.predict(xtrain)\n"
   ]
  },
  {
   "cell_type": "code",
   "execution_count": 65,
   "metadata": {},
   "outputs": [
    {
     "data": {
      "text/plain": [
       "array([[ 1,  0,  0],\n",
       "       [ 0,  6,  1],\n",
       "       [ 0,  0, 26]], dtype=int64)"
      ]
     },
     "execution_count": 65,
     "metadata": {},
     "output_type": "execute_result"
    }
   ],
   "source": [
    "from sklearn.metrics import confusion_matrix\n",
    "cf = confusion_matrix(ytrain,pred)\n",
    "cf"
   ]
  },
  {
   "cell_type": "code",
   "execution_count": 66,
   "metadata": {},
   "outputs": [],
   "source": [
    "ytrain.index = range(len(ytrain))"
   ]
  },
  {
   "cell_type": "code",
   "execution_count": 67,
   "metadata": {},
   "outputs": [],
   "source": [
    "from sklearn.metrics import average_precision_score\n",
    "count = 0\n",
    "for i in range(len(ytrain)):\n",
    "    if pred[i] == ytrain[i]:\n",
    "        acc = count=count+1 \n",
    "\n",
    "acc = acc/len(ytrain)"
   ]
  },
  {
   "cell_type": "code",
   "execution_count": 68,
   "metadata": {},
   "outputs": [
    {
     "data": {
      "text/plain": [
       "0.9705882352941176"
      ]
     },
     "execution_count": 68,
     "metadata": {},
     "output_type": "execute_result"
    }
   ],
   "source": [
    "acc"
   ]
  },
  {
   "cell_type": "code",
   "execution_count": 69,
   "metadata": {},
   "outputs": [],
   "source": [
    "predt = model.predict(xtest)"
   ]
  },
  {
   "cell_type": "code",
   "execution_count": 70,
   "metadata": {},
   "outputs": [],
   "source": [
    "ytest.index = range(len(ytest))"
   ]
  },
  {
   "cell_type": "code",
   "execution_count": 71,
   "metadata": {},
   "outputs": [],
   "source": [
    "from sklearn.metrics import average_precision_score\n",
    "count = 0\n",
    "for i in range(len(ytest)):\n",
    "    if pred[i] == ytest[i]:\n",
    "        acc = count=count+1 \n",
    "\n",
    "acc = acc/len(ytest)"
   ]
  },
  {
   "cell_type": "code",
   "execution_count": 72,
   "metadata": {},
   "outputs": [
    {
     "data": {
      "text/plain": [
       "0.6666666666666666"
      ]
     },
     "execution_count": 72,
     "metadata": {},
     "output_type": "execute_result"
    }
   ],
   "source": [
    "acc"
   ]
  },
  {
   "cell_type": "code",
   "execution_count": null,
   "metadata": {},
   "outputs": [],
   "source": []
  }
 ],
 "metadata": {
  "kernelspec": {
   "display_name": "Python 3",
   "language": "python",
   "name": "python3"
  },
  "language_info": {
   "codemirror_mode": {
    "name": "ipython",
    "version": 3
   },
   "file_extension": ".py",
   "mimetype": "text/x-python",
   "name": "python",
   "nbconvert_exporter": "python",
   "pygments_lexer": "ipython3",
   "version": "3.7.1"
  }
 },
 "nbformat": 4,
 "nbformat_minor": 2
}
